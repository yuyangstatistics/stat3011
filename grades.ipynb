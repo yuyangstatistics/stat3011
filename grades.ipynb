{
 "cells": [
  {
   "cell_type": "code",
   "execution_count": 19,
   "metadata": {},
   "outputs": [],
   "source": [
    "import pandas as pd\n",
    "import numpy as np\n",
    "import os"
   ]
  },
  {
   "cell_type": "code",
   "execution_count": 20,
   "metadata": {},
   "outputs": [],
   "source": [
    "grade_dir = \"/Users/yuyang/Documents/Courses/22Fall/STAT3011/exams/exam1/grades\"\n",
    "gradebook = pd.read_csv(os.path.join(grade_dir, \"2022-11-01T2219_Grades-STAT_3011_(006).csv\"))\n",
    "exam1A = pd.read_csv(os.path.join(grade_dir, \"Exam1A_Fall_22_scores.csv\"))\n",
    "exam1B = pd.read_csv(os.path.join(grade_dir, \"Exam1B_Fall_22_scores.csv\"))"
   ]
  },
  {
   "cell_type": "code",
   "execution_count": 21,
   "metadata": {},
   "outputs": [],
   "source": [
    "exam1A = exam1A[[\"SID\", \"Total Score\"]]\n",
    "gradebook = gradebook.merge(exam1A, how=\"left\", left_on=\"SIS User ID\", right_on=\"SID\")\n",
    "gradebook[\"Mid-term Exam 1 (Thursday, 10/20, 5:00 - 6:30 pm Anderson Hall 310) (2758466)\"] = np.where(gradebook[\"Mid-term Exam 1 (Thursday, 10/20, 5:00 - 6:30 pm Anderson Hall 310) (2758466)\"].isnull(), \n",
    "    gradebook[\"Total Score\"],\n",
    "    gradebook[\"Mid-term Exam 1 (Thursday, 10/20, 5:00 - 6:30 pm Anderson Hall 310) (2758466)\"])\n",
    "gradebook.drop(columns = [\"SID\", \"Total Score\"], inplace = True)\n",
    "\n",
    "exam1B = exam1B[[\"SID\", \"Total Score\"]]\n",
    "gradebook = gradebook.merge(exam1B, how=\"left\", left_on=\"SIS User ID\", right_on=\"SID\")\n",
    "gradebook[\"Mid-term Exam 1 (Thursday, 10/20, 5:00 - 6:30 pm Anderson Hall 310) (2758466)\"] = np.where(gradebook[\"Mid-term Exam 1 (Thursday, 10/20, 5:00 - 6:30 pm Anderson Hall 310) (2758466)\"].isnull(), \n",
    "    gradebook[\"Total Score\"],\n",
    "    gradebook[\"Mid-term Exam 1 (Thursday, 10/20, 5:00 - 6:30 pm Anderson Hall 310) (2758466)\"])\n",
    "gradebook.drop(columns = [\"SID\", \"Total Score\"], inplace = True)\n"
   ]
  },
  {
   "cell_type": "code",
   "execution_count": 22,
   "metadata": {},
   "outputs": [],
   "source": [
    "gradebook.to_csv(os.path.join(grade_dir, \"updated_grades.csv\"), index = False)"
   ]
  },
  {
   "cell_type": "code",
   "execution_count": null,
   "metadata": {},
   "outputs": [],
   "source": []
  }
 ],
 "metadata": {
  "kernelspec": {
   "display_name": "Python 3.7.6 ('base')",
   "language": "python",
   "name": "python3"
  },
  "language_info": {
   "codemirror_mode": {
    "name": "ipython",
    "version": 3
   },
   "file_extension": ".py",
   "mimetype": "text/x-python",
   "name": "python",
   "nbconvert_exporter": "python",
   "pygments_lexer": "ipython3",
   "version": "3.7.6"
  },
  "orig_nbformat": 4,
  "vscode": {
   "interpreter": {
    "hash": "1159beeaf7bb1a5190ac145a9c773be02b0fbbc2bad89028a2d987d9e555ec4f"
   }
  }
 },
 "nbformat": 4,
 "nbformat_minor": 2
}
