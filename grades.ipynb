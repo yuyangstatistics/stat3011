{
 "cells": [
  {
   "cell_type": "markdown",
   "metadata": {},
   "source": [
    "# Exam 1"
   ]
  },
  {
   "cell_type": "code",
   "execution_count": 4,
   "metadata": {},
   "outputs": [],
   "source": [
    "import pandas as pd\n",
    "import numpy as np\n",
    "import os"
   ]
  },
  {
   "cell_type": "code",
   "execution_count": 41,
   "metadata": {},
   "outputs": [],
   "source": [
    "grade_dir = \"/Users/yuyang/Documents/Courses/22Fall/STAT3011/exams/exam1/grades\"\n",
    "gradebook = pd.read_csv(os.path.join(grade_dir, \"2022-11-04T1122_Grades-STAT_3011_(006).csv\"))\n",
    "exam1A = pd.read_csv(os.path.join(grade_dir, \"Exam1A_Fall_22_scores.csv\"))\n",
    "exam1B = pd.read_csv(os.path.join(grade_dir, \"Exam1B_Fall_22_scores.csv\"))"
   ]
  },
  {
   "cell_type": "code",
   "execution_count": 42,
   "metadata": {},
   "outputs": [],
   "source": [
    "# curve version A\n",
    "exam1A = exam1A[[\"SID\", \"Total Score\"]]\n",
    "exam1A[\"Total Score\"] = np.sqrt(exam1A[\"Total Score\"] + 4) * 10\n",
    "gradebook = gradebook.merge(exam1A, how=\"left\", left_on=\"SIS User ID\", right_on=\"SID\")\n",
    "gradebook[\"Mid-term Exam 1 (Thursday, 10/20, 5:00 - 6:30 pm Anderson Hall 310) (2758466)\"] = np.where(gradebook[\"Total Score\"].isnull(), \n",
    "    gradebook[\"Mid-term Exam 1 (Thursday, 10/20, 5:00 - 6:30 pm Anderson Hall 310) (2758466)\"], \n",
    "    gradebook[\"Total Score\"])\n",
    "gradebook.drop(columns = [\"SID\", \"Total Score\"], inplace = True)\n",
    "\n",
    "# curve version B\n",
    "exam1B = exam1B[[\"SID\", \"Total Score\"]]\n",
    "exam1B[\"Total Score\"] = np.sqrt(exam1B[\"Total Score\"]) * 10\n",
    "gradebook = gradebook.merge(exam1B, how=\"left\", left_on=\"SIS User ID\", right_on=\"SID\")\n",
    "gradebook[\"Mid-term Exam 1 (Thursday, 10/20, 5:00 - 6:30 pm Anderson Hall 310) (2758466)\"] = np.where(gradebook[\"Total Score\"].isnull(),  \n",
    "    gradebook[\"Mid-term Exam 1 (Thursday, 10/20, 5:00 - 6:30 pm Anderson Hall 310) (2758466)\"], \n",
    "    gradebook[\"Total Score\"])\n",
    "gradebook.drop(columns = [\"SID\", \"Total Score\"], inplace = True)\n",
    "\n",
    "# curve Version C\n",
    "VersionC_students = set(gradebook[\"SIS User ID\"]) - set(exam1A[~exam1A[\"Total Score\"].isnull()][\"SID\"]) - set(exam1B[~exam1B[\"Total Score\"].isnull()][\"SID\"])\n",
    "VersionC_students = {x for x in VersionC_students if x == x}\n",
    "gradebook.loc[gradebook[\"SIS User ID\"].isin(VersionC_students), \"Mid-term Exam 1 (Thursday, 10/20, 5:00 - 6:30 pm Anderson Hall 310) (2758466)\"] = np.sqrt(gradebook[gradebook[\"SIS User ID\"].isin(VersionC_students)][\"Mid-term Exam 1 (Thursday, 10/20, 5:00 - 6:30 pm Anderson Hall 310) (2758466)\"] + 4) * 10\n"
   ]
  },
  {
   "cell_type": "code",
   "execution_count": 22,
   "metadata": {},
   "outputs": [],
   "source": [
    "gradebook.to_csv(os.path.join(grade_dir, \"curved_grades.csv\"), index = False)"
   ]
  },
  {
   "cell_type": "code",
   "execution_count": null,
   "metadata": {},
   "outputs": [],
   "source": []
  },
  {
   "cell_type": "markdown",
   "metadata": {},
   "source": [
    "# Exam 2"
   ]
  },
  {
   "cell_type": "code",
   "execution_count": 11,
   "metadata": {},
   "outputs": [],
   "source": [
    "import pandas as pd\n",
    "import numpy as np\n",
    "import os"
   ]
  },
  {
   "cell_type": "code",
   "execution_count": 12,
   "metadata": {},
   "outputs": [],
   "source": [
    "grade_dir = \"/Users/yuyang/Documents/Courses/22Fall/STAT3011/exams/exam2/grades\"\n",
    "gradebook = pd.read_csv(os.path.join(grade_dir, \"2022-12-05T1545_Grades-STAT_3011_(006).csv\"))\n",
    "exam2A = pd.read_csv(os.path.join(grade_dir, \"Fall_22_Exam_2A_scores.csv\"))\n",
    "exam2B = pd.read_csv(os.path.join(grade_dir, \"Fall_22_Exam_2B_scores.csv\"))\n",
    "exam2C = pd.read_csv(os.path.join(grade_dir, \"Fall_22_Exam_2C_scores.csv\"))"
   ]
  },
  {
   "cell_type": "code",
   "execution_count": 13,
   "metadata": {},
   "outputs": [],
   "source": [
    "# curve version A\n",
    "exam2A = exam2A[[\"SID\", \"Total Score\"]]\n",
    "exam2A[\"Total Score\"] = np.sqrt(exam2A[\"Total Score\"] - 2) * 10\n",
    "gradebook = gradebook.merge(exam2A, how=\"left\", left_on=\"SIS User ID\", right_on=\"SID\")\n",
    "gradebook[\"Mid-term Exam 2 (Thursday, 11/17, 5:00 - 6:30 pm, Anderson Hall 310) (2758468)\"] = np.where(gradebook[\"Total Score\"].isnull(), \n",
    "    gradebook[\"Mid-term Exam 2 (Thursday, 11/17, 5:00 - 6:30 pm, Anderson Hall 310) (2758468)\"], \n",
    "    gradebook[\"Total Score\"])\n",
    "gradebook.drop(columns = [\"SID\", \"Total Score\"], inplace = True)\n",
    "\n",
    "# curve version B\n",
    "exam2B = exam2B[[\"SID\", \"Total Score\"]]\n",
    "exam2B[\"Total Score\"] = np.minimum(np.sqrt(exam2B[\"Total Score\"] + 6) * 10, 100)\n",
    "gradebook = gradebook.merge(exam2B, how=\"left\", left_on=\"SIS User ID\", right_on=\"SID\")\n",
    "gradebook[\"Mid-term Exam 2 (Thursday, 11/17, 5:00 - 6:30 pm, Anderson Hall 310) (2758468)\"] = np.where(gradebook[\"Total Score\"].isnull(),  \n",
    "    gradebook[\"Mid-term Exam 2 (Thursday, 11/17, 5:00 - 6:30 pm, Anderson Hall 310) (2758468)\"], \n",
    "    gradebook[\"Total Score\"])\n",
    "gradebook.drop(columns = [\"SID\", \"Total Score\"], inplace = True)\n",
    "\n",
    "# curve version C\n",
    "exam2C = exam2C[[\"SID\", \"Total Score\"]]\n",
    "exam2C[\"Total Score\"] = np.sqrt(exam2C[\"Total Score\"] - 2) * 10\n",
    "gradebook = gradebook.merge(exam2C, how=\"left\", left_on=\"SIS User ID\", right_on=\"SID\")\n",
    "gradebook[\"Mid-term Exam 2 (Thursday, 11/17, 5:00 - 6:30 pm, Anderson Hall 310) (2758468)\"] = np.where(gradebook[\"Total Score\"].isnull(), \n",
    "    gradebook[\"Mid-term Exam 2 (Thursday, 11/17, 5:00 - 6:30 pm, Anderson Hall 310) (2758468)\"], \n",
    "    gradebook[\"Total Score\"])\n",
    "gradebook.drop(columns = [\"SID\", \"Total Score\"], inplace = True)"
   ]
  },
  {
   "cell_type": "code",
   "execution_count": 14,
   "metadata": {},
   "outputs": [],
   "source": [
    "gradebook.to_csv(os.path.join(grade_dir, \"curved_grades.csv\"), index = False)"
   ]
  },
  {
   "cell_type": "code",
   "execution_count": 15,
   "metadata": {},
   "outputs": [
    {
     "data": {
      "text/html": [
       "<div>\n",
       "<style scoped>\n",
       "    .dataframe tbody tr th:only-of-type {\n",
       "        vertical-align: middle;\n",
       "    }\n",
       "\n",
       "    .dataframe tbody tr th {\n",
       "        vertical-align: top;\n",
       "    }\n",
       "\n",
       "    .dataframe thead th {\n",
       "        text-align: right;\n",
       "    }\n",
       "</style>\n",
       "<table border=\"1\" class=\"dataframe\">\n",
       "  <thead>\n",
       "    <tr style=\"text-align: right;\">\n",
       "      <th></th>\n",
       "      <th>Student</th>\n",
       "      <th>ID</th>\n",
       "      <th>SID</th>\n",
       "      <th>SIS Login ID</th>\n",
       "      <th>Section</th>\n",
       "      <th>Mid-term Exam 1 (Thursday, 10/20, 5:00 - 6:30 pm Anderson Hall 310) (2758466)</th>\n",
       "      <th>Total Score</th>\n",
       "    </tr>\n",
       "  </thead>\n",
       "  <tbody>\n",
       "    <tr>\n",
       "      <th>0</th>\n",
       "      <td>Benegas, Isabel</td>\n",
       "      <td>1525832.0</td>\n",
       "      <td>5832354.0</td>\n",
       "      <td>beneg010@umn.edu</td>\n",
       "      <td>006 UMNTC STAT 3011 (Fall 2022)</td>\n",
       "      <td>80.00</td>\n",
       "      <td>91.651514</td>\n",
       "    </tr>\n",
       "    <tr>\n",
       "      <th>1</th>\n",
       "      <td>Dobkin, Samuel</td>\n",
       "      <td>1423719.0</td>\n",
       "      <td>5774239.0</td>\n",
       "      <td>dobki009@umn.edu</td>\n",
       "      <td>006 UMNTC STAT 3011 (Fall 2022)</td>\n",
       "      <td>94.34</td>\n",
       "      <td>81.240384</td>\n",
       "    </tr>\n",
       "    <tr>\n",
       "      <th>2</th>\n",
       "      <td>Pagnotta, Sarah</td>\n",
       "      <td>977276.0</td>\n",
       "      <td>5574529.0</td>\n",
       "      <td>pagno009@umn.edu</td>\n",
       "      <td>006 UMNTC STAT 3011 (Fall 2022)</td>\n",
       "      <td>84.85</td>\n",
       "      <td>68.556546</td>\n",
       "    </tr>\n",
       "    <tr>\n",
       "      <th>3</th>\n",
       "      <td>Rendon, Erick</td>\n",
       "      <td>1297742.0</td>\n",
       "      <td>5726566.0</td>\n",
       "      <td>rendo023@umn.edu</td>\n",
       "      <td>006 UMNTC STAT 3011 (Fall 2022)</td>\n",
       "      <td>80.93</td>\n",
       "      <td>78.102497</td>\n",
       "    </tr>\n",
       "    <tr>\n",
       "      <th>4</th>\n",
       "      <td>Wenaas, Jenna</td>\n",
       "      <td>1065478.0</td>\n",
       "      <td>5598344.0</td>\n",
       "      <td>wenaa007@umn.edu</td>\n",
       "      <td>006 UMNTC STAT 3011 (Fall 2022)</td>\n",
       "      <td>91.10</td>\n",
       "      <td>83.066239</td>\n",
       "    </tr>\n",
       "    <tr>\n",
       "      <th>5</th>\n",
       "      <td>Zar, Sarah</td>\n",
       "      <td>1259876.0</td>\n",
       "      <td>5701364.0</td>\n",
       "      <td>zar00004@umn.edu</td>\n",
       "      <td>006 UMNTC STAT 3011 (Fall 2022)</td>\n",
       "      <td>92.74</td>\n",
       "      <td>88.881944</td>\n",
       "    </tr>\n",
       "    <tr>\n",
       "      <th>6</th>\n",
       "      <td>Zhao, Kang</td>\n",
       "      <td>1110337.0</td>\n",
       "      <td>5641694.0</td>\n",
       "      <td>zhao1443@umn.edu</td>\n",
       "      <td>006 UMNTC STAT 3011 (Fall 2022)</td>\n",
       "      <td>84.26</td>\n",
       "      <td>72.111026</td>\n",
       "    </tr>\n",
       "  </tbody>\n",
       "</table>\n",
       "</div>"
      ],
      "text/plain": [
       "           Student         ID        SID      SIS Login ID  \\\n",
       "0  Benegas, Isabel  1525832.0  5832354.0  beneg010@umn.edu   \n",
       "1   Dobkin, Samuel  1423719.0  5774239.0  dobki009@umn.edu   \n",
       "2  Pagnotta, Sarah   977276.0  5574529.0  pagno009@umn.edu   \n",
       "3    Rendon, Erick  1297742.0  5726566.0  rendo023@umn.edu   \n",
       "4    Wenaas, Jenna  1065478.0  5598344.0  wenaa007@umn.edu   \n",
       "5       Zar, Sarah  1259876.0  5701364.0  zar00004@umn.edu   \n",
       "6       Zhao, Kang  1110337.0  5641694.0  zhao1443@umn.edu   \n",
       "\n",
       "                           Section  \\\n",
       "0  006 UMNTC STAT 3011 (Fall 2022)   \n",
       "1  006 UMNTC STAT 3011 (Fall 2022)   \n",
       "2  006 UMNTC STAT 3011 (Fall 2022)   \n",
       "3  006 UMNTC STAT 3011 (Fall 2022)   \n",
       "4  006 UMNTC STAT 3011 (Fall 2022)   \n",
       "5  006 UMNTC STAT 3011 (Fall 2022)   \n",
       "6  006 UMNTC STAT 3011 (Fall 2022)   \n",
       "\n",
       "   Mid-term Exam 1 (Thursday, 10/20, 5:00 - 6:30 pm Anderson Hall 310) (2758466)  \\\n",
       "0                                              80.00                               \n",
       "1                                              94.34                               \n",
       "2                                              84.85                               \n",
       "3                                              80.93                               \n",
       "4                                              91.10                               \n",
       "5                                              92.74                               \n",
       "6                                              84.26                               \n",
       "\n",
       "   Total Score  \n",
       "0    91.651514  \n",
       "1    81.240384  \n",
       "2    68.556546  \n",
       "3    78.102497  \n",
       "4    83.066239  \n",
       "5    88.881944  \n",
       "6    72.111026  "
      ]
     },
     "execution_count": 15,
     "metadata": {},
     "output_type": "execute_result"
    }
   ],
   "source": [
    "exam2C = pd.read_csv(os.path.join(grade_dir, \"Fall_22_Exam_2C_scores.csv\"))\n",
    "exam2C[\"Total Score\"] = np.sqrt(exam2C[\"Total Score\"] - 2) * 10\n",
    "exam2C"
   ]
  },
  {
   "cell_type": "code",
   "execution_count": null,
   "metadata": {},
   "outputs": [],
   "source": []
  },
  {
   "attachments": {},
   "cell_type": "markdown",
   "metadata": {},
   "source": [
    "# Final Exam"
   ]
  },
  {
   "cell_type": "code",
   "execution_count": 1,
   "metadata": {},
   "outputs": [],
   "source": [
    "import pandas as pd\n",
    "import numpy as np\n",
    "import os"
   ]
  },
  {
   "cell_type": "code",
   "execution_count": 5,
   "metadata": {},
   "outputs": [],
   "source": [
    "grade_dir = \"/Users/yuyang/Documents/Courses/22Fall/STAT3011/exams/final_exam/grades\"\n",
    "gradebook = pd.read_csv(os.path.join(grade_dir, \"2022-12-25T1753_Grades-STAT_3011_(006).csv\"))\n",
    "examA = pd.read_csv(os.path.join(grade_dir, \"Fall_22_Final_Exam_A_scores.csv\"))\n",
    "examB = pd.read_csv(os.path.join(grade_dir, \"Fall_22_Final_Exam_B_scores.csv\"))"
   ]
  },
  {
   "cell_type": "code",
   "execution_count": 6,
   "metadata": {},
   "outputs": [],
   "source": [
    "# curve version A\n",
    "examA = examA[[\"SID\", \"Total Score\"]]\n",
    "examA[\"Total Score\"] = np.sqrt(examA[\"Total Score\"] + 2) * 10\n",
    "gradebook = gradebook.merge(examA, how=\"left\", left_on=\"SIS User ID\", right_on=\"SID\")\n",
    "gradebook[\"Final Exam (Tuesday, 12/20, 5:00 - 7:00 pm, Anderson Hall 310) (2758469)\"] = np.where(gradebook[\"Total Score\"].isnull(), \n",
    "                                                                                                 gradebook[\"Final Exam (Tuesday, 12/20, 5:00 - 7:00 pm, Anderson Hall 310) (2758469)\"], \n",
    "                                                                                                 gradebook[\"Total Score\"])\n",
    "gradebook.drop(columns = [\"SID\", \"Total Score\"], inplace = True)\n",
    "\n",
    "# curve version B\n",
    "examB = examB[[\"SID\", \"Total Score\"]]\n",
    "examB[\"Total Score\"] = np.minimum(np.sqrt(examB[\"Total Score\"] + 3.5) * 10, 100)\n",
    "gradebook = gradebook.merge(examB, how=\"left\", left_on=\"SIS User ID\", right_on=\"SID\")\n",
    "gradebook[\"Final Exam (Tuesday, 12/20, 5:00 - 7:00 pm, Anderson Hall 310) (2758469)\"] = np.where(gradebook[\"Total Score\"].isnull(),  \n",
    "                                                                                                 gradebook[\"Final Exam (Tuesday, 12/20, 5:00 - 7:00 pm, Anderson Hall 310) (2758469)\"], \n",
    "                                                                                                 gradebook[\"Total Score\"])\n",
    "gradebook.drop(columns = [\"SID\", \"Total Score\"], inplace = True)"
   ]
  },
  {
   "cell_type": "code",
   "execution_count": 7,
   "metadata": {},
   "outputs": [],
   "source": [
    "gradebook.to_csv(os.path.join(grade_dir, \"curved_grades.csv\"), index = False)"
   ]
  },
  {
   "cell_type": "code",
   "execution_count": null,
   "metadata": {},
   "outputs": [
    {
     "data": {
      "text/html": [
       "<div>\n",
       "<style scoped>\n",
       "    .dataframe tbody tr th:only-of-type {\n",
       "        vertical-align: middle;\n",
       "    }\n",
       "\n",
       "    .dataframe tbody tr th {\n",
       "        vertical-align: top;\n",
       "    }\n",
       "\n",
       "    .dataframe thead th {\n",
       "        text-align: right;\n",
       "    }\n",
       "</style>\n",
       "<table border=\"1\" class=\"dataframe\">\n",
       "  <thead>\n",
       "    <tr style=\"text-align: right;\">\n",
       "      <th></th>\n",
       "      <th>Student</th>\n",
       "      <th>ID</th>\n",
       "      <th>SID</th>\n",
       "      <th>SIS Login ID</th>\n",
       "      <th>Section</th>\n",
       "      <th>Mid-term Exam 1 (Thursday, 10/20, 5:00 - 6:30 pm Anderson Hall 310) (2758466)</th>\n",
       "      <th>Total Score</th>\n",
       "    </tr>\n",
       "  </thead>\n",
       "  <tbody>\n",
       "    <tr>\n",
       "      <th>0</th>\n",
       "      <td>Benegas, Isabel</td>\n",
       "      <td>1525832.0</td>\n",
       "      <td>5832354.0</td>\n",
       "      <td>beneg010@umn.edu</td>\n",
       "      <td>006 UMNTC STAT 3011 (Fall 2022)</td>\n",
       "      <td>80.00</td>\n",
       "      <td>91.651514</td>\n",
       "    </tr>\n",
       "    <tr>\n",
       "      <th>1</th>\n",
       "      <td>Dobkin, Samuel</td>\n",
       "      <td>1423719.0</td>\n",
       "      <td>5774239.0</td>\n",
       "      <td>dobki009@umn.edu</td>\n",
       "      <td>006 UMNTC STAT 3011 (Fall 2022)</td>\n",
       "      <td>94.34</td>\n",
       "      <td>81.240384</td>\n",
       "    </tr>\n",
       "    <tr>\n",
       "      <th>2</th>\n",
       "      <td>Pagnotta, Sarah</td>\n",
       "      <td>977276.0</td>\n",
       "      <td>5574529.0</td>\n",
       "      <td>pagno009@umn.edu</td>\n",
       "      <td>006 UMNTC STAT 3011 (Fall 2022)</td>\n",
       "      <td>84.85</td>\n",
       "      <td>68.556546</td>\n",
       "    </tr>\n",
       "    <tr>\n",
       "      <th>3</th>\n",
       "      <td>Rendon, Erick</td>\n",
       "      <td>1297742.0</td>\n",
       "      <td>5726566.0</td>\n",
       "      <td>rendo023@umn.edu</td>\n",
       "      <td>006 UMNTC STAT 3011 (Fall 2022)</td>\n",
       "      <td>80.93</td>\n",
       "      <td>78.102497</td>\n",
       "    </tr>\n",
       "    <tr>\n",
       "      <th>4</th>\n",
       "      <td>Wenaas, Jenna</td>\n",
       "      <td>1065478.0</td>\n",
       "      <td>5598344.0</td>\n",
       "      <td>wenaa007@umn.edu</td>\n",
       "      <td>006 UMNTC STAT 3011 (Fall 2022)</td>\n",
       "      <td>91.10</td>\n",
       "      <td>83.066239</td>\n",
       "    </tr>\n",
       "    <tr>\n",
       "      <th>5</th>\n",
       "      <td>Zar, Sarah</td>\n",
       "      <td>1259876.0</td>\n",
       "      <td>5701364.0</td>\n",
       "      <td>zar00004@umn.edu</td>\n",
       "      <td>006 UMNTC STAT 3011 (Fall 2022)</td>\n",
       "      <td>92.74</td>\n",
       "      <td>88.881944</td>\n",
       "    </tr>\n",
       "    <tr>\n",
       "      <th>6</th>\n",
       "      <td>Zhao, Kang</td>\n",
       "      <td>1110337.0</td>\n",
       "      <td>5641694.0</td>\n",
       "      <td>zhao1443@umn.edu</td>\n",
       "      <td>006 UMNTC STAT 3011 (Fall 2022)</td>\n",
       "      <td>84.26</td>\n",
       "      <td>72.111026</td>\n",
       "    </tr>\n",
       "  </tbody>\n",
       "</table>\n",
       "</div>"
      ],
      "text/plain": [
       "           Student         ID        SID      SIS Login ID  \\\n",
       "0  Benegas, Isabel  1525832.0  5832354.0  beneg010@umn.edu   \n",
       "1   Dobkin, Samuel  1423719.0  5774239.0  dobki009@umn.edu   \n",
       "2  Pagnotta, Sarah   977276.0  5574529.0  pagno009@umn.edu   \n",
       "3    Rendon, Erick  1297742.0  5726566.0  rendo023@umn.edu   \n",
       "4    Wenaas, Jenna  1065478.0  5598344.0  wenaa007@umn.edu   \n",
       "5       Zar, Sarah  1259876.0  5701364.0  zar00004@umn.edu   \n",
       "6       Zhao, Kang  1110337.0  5641694.0  zhao1443@umn.edu   \n",
       "\n",
       "                           Section  \\\n",
       "0  006 UMNTC STAT 3011 (Fall 2022)   \n",
       "1  006 UMNTC STAT 3011 (Fall 2022)   \n",
       "2  006 UMNTC STAT 3011 (Fall 2022)   \n",
       "3  006 UMNTC STAT 3011 (Fall 2022)   \n",
       "4  006 UMNTC STAT 3011 (Fall 2022)   \n",
       "5  006 UMNTC STAT 3011 (Fall 2022)   \n",
       "6  006 UMNTC STAT 3011 (Fall 2022)   \n",
       "\n",
       "   Mid-term Exam 1 (Thursday, 10/20, 5:00 - 6:30 pm Anderson Hall 310) (2758466)  \\\n",
       "0                                              80.00                               \n",
       "1                                              94.34                               \n",
       "2                                              84.85                               \n",
       "3                                              80.93                               \n",
       "4                                              91.10                               \n",
       "5                                              92.74                               \n",
       "6                                              84.26                               \n",
       "\n",
       "   Total Score  \n",
       "0    91.651514  \n",
       "1    81.240384  \n",
       "2    68.556546  \n",
       "3    78.102497  \n",
       "4    83.066239  \n",
       "5    88.881944  \n",
       "6    72.111026  "
      ]
     },
     "metadata": {},
     "output_type": "display_data"
    }
   ],
   "source": []
  },
  {
   "cell_type": "code",
   "execution_count": null,
   "metadata": {},
   "outputs": [],
   "source": []
  },
  {
   "attachments": {},
   "cell_type": "markdown",
   "metadata": {},
   "source": [
    "# Final Grade Curving"
   ]
  },
  {
   "cell_type": "code",
   "execution_count": 34,
   "metadata": {},
   "outputs": [
    {
     "name": "stderr",
     "output_type": "stream",
     "text": [
      "/Users/yuyang/opt/anaconda3/lib/python3.7/site-packages/pandas/core/indexing.py:670: SettingWithCopyWarning: \n",
      "A value is trying to be set on a copy of a slice from a DataFrame\n",
      "\n",
      "See the caveats in the documentation: https://pandas.pydata.org/pandas-docs/stable/user_guide/indexing.html#returning-a-view-versus-a-copy\n",
      "  self._setitem_with_indexer(indexer, value)\n"
     ]
    }
   ],
   "source": [
    "import pandas as pd\n",
    "import numpy as np\n",
    "import os\n",
    "\n",
    "grade_dir = \"/Users/yuyang/Documents/Courses/22Fall/STAT3011/exams/final_grade\"\n",
    "gradebook = pd.read_csv(os.path.join(grade_dir, \"2022-12-25T1934_Grades-STAT_3011_(006).csv\"))\n",
    "\n",
    "final_score = gradebook[\"Final Score\"].iloc[1:(gradebook.shape[0] - 1)].astype(float)\n",
    "gradebook[\"Override Score\"].iloc[1:(gradebook.shape[0] - 1)] = np.maximum(np.sqrt(final_score - 6) * 10, final_score)\n",
    "gradebook.to_csv(os.path.join(grade_dir, \"curved_grades.csv\"), index = False)"
   ]
  },
  {
   "cell_type": "code",
   "execution_count": null,
   "metadata": {},
   "outputs": [],
   "source": []
  }
 ],
 "metadata": {
  "kernelspec": {
   "display_name": "Python 3.7.6 ('base')",
   "language": "python",
   "name": "python3"
  },
  "language_info": {
   "codemirror_mode": {
    "name": "ipython",
    "version": 3
   },
   "file_extension": ".py",
   "mimetype": "text/x-python",
   "name": "python",
   "nbconvert_exporter": "python",
   "pygments_lexer": "ipython3",
   "version": "3.7.6"
  },
  "orig_nbformat": 4,
  "vscode": {
   "interpreter": {
    "hash": "1159beeaf7bb1a5190ac145a9c773be02b0fbbc2bad89028a2d987d9e555ec4f"
   }
  }
 },
 "nbformat": 4,
 "nbformat_minor": 2
}
