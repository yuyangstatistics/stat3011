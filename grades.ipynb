{
 "cells": [
  {
   "cell_type": "code",
   "execution_count": 1,
   "metadata": {},
   "outputs": [],
   "source": [
    "import pandas as pd\n",
    "import numpy as np"
   ]
  },
  {
   "cell_type": "code",
   "execution_count": 4,
   "metadata": {},
   "outputs": [],
   "source": [
    "gradebook = pd.read_csv(\"~/Downloads/2022-11-01T2219_Grades-STAT_3011_(006).csv\")\n",
    "exam1A = pd.read_csv(\"~/Downloads/Exam1A_Fall_22_scores.csv\")"
   ]
  },
  {
   "cell_type": "code",
   "execution_count": 34,
   "metadata": {},
   "outputs": [
    {
     "data": {
      "text/plain": [
       "31"
      ]
     },
     "execution_count": 34,
     "metadata": {},
     "output_type": "execute_result"
    }
   ],
   "source": [
    "exam1A = exam1A[[\"SID\", \"Total Score\"]]\n",
    "gradebook = gradebook.merge(exam1A, how=\"left\", left_on=\"SIS User ID\", right_on=\"SID\")\n",
    "gradebook[\"Mid-term Exam 1 (Thursday, 10/20, 5:00 - 6:30 pm Anderson Hall 310) (2758466)\"] = np.where(gradebook[\"Mid-term Exam 1 (Thursday, 10/20, 5:00 - 6:30 pm Anderson Hall 310) (2758466)\"].isnull(), \n",
    "    gradebook[\"Total Score\"],\n",
    "    gradebook[\"Mid-term Exam 1 (Thursday, 10/20, 5:00 - 6:30 pm Anderson Hall 310) (2758466)\"])\n",
    "gradebook.drop(columns = [\"SID\", \"Total Score\"], inplace = True)"
   ]
  },
  {
   "cell_type": "code",
   "execution_count": 36,
   "metadata": {},
   "outputs": [],
   "source": [
    "gradebook.to_csv(\"~/Downloads/updated_grades.csv\", index = False)"
   ]
  }
 ],
 "metadata": {
  "kernelspec": {
   "display_name": "Python 3.7.6 ('base')",
   "language": "python",
   "name": "python3"
  },
  "language_info": {
   "codemirror_mode": {
    "name": "ipython",
    "version": 3
   },
   "file_extension": ".py",
   "mimetype": "text/x-python",
   "name": "python",
   "nbconvert_exporter": "python",
   "pygments_lexer": "ipython3",
   "version": "3.7.6"
  },
  "orig_nbformat": 4,
  "vscode": {
   "interpreter": {
    "hash": "612edd02ea10f8045fe3ea1eed1e852e0848ef3d3ad745dfc1e38e2bb3f9d911"
   }
  }
 },
 "nbformat": 4,
 "nbformat_minor": 2
}
